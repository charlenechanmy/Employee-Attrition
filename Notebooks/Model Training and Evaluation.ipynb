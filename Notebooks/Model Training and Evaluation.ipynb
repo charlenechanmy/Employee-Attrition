{
 "cells": [
  {
   "cell_type": "markdown",
   "id": "fd5a339e",
   "metadata": {},
   "source": [
    "# 1. Data Loading and Preprocessing"
   ]
  },
  {
   "cell_type": "code",
   "execution_count": 1,
   "id": "9f000215",
   "metadata": {},
   "outputs": [],
   "source": [
    "## Import Libraries\n",
    "\n",
    "import numpy as np # linear algebra\n",
    "import pandas as pd # data processing, CSV file I/O (e.g. pd.read_csv)\n",
    "import matplotlib.pyplot as plt # data visualization\n",
    "import seaborn as sns # statistical data visualization\n",
    "%matplotlib inline\n",
    "import sklearn\n",
    "\n",
    "import warnings\n",
    "warnings.filterwarnings('ignore')\n",
    "\n",
    "import os"
   ]
  },
  {
   "cell_type": "code",
   "execution_count": 2,
   "id": "f6e88164",
   "metadata": {},
   "outputs": [
    {
     "name": "stdout",
     "output_type": "stream",
     "text": [
      "<class 'pandas.core.frame.DataFrame'>\n",
      "RangeIndex: 1470 entries, 0 to 1469\n",
      "Data columns (total 35 columns):\n",
      " #   Column                    Non-Null Count  Dtype \n",
      "---  ------                    --------------  ----- \n",
      " 0   Age                       1470 non-null   int64 \n",
      " 1   Attrition                 1470 non-null   object\n",
      " 2   BusinessTravel            1470 non-null   object\n",
      " 3   DailyRate                 1470 non-null   int64 \n",
      " 4   Department                1470 non-null   object\n",
      " 5   DistanceFromHome          1470 non-null   int64 \n",
      " 6   Education                 1470 non-null   int64 \n",
      " 7   EducationField            1470 non-null   object\n",
      " 8   EmployeeCount             1470 non-null   int64 \n",
      " 9   EmployeeNumber            1470 non-null   int64 \n",
      " 10  EnvironmentSatisfaction   1470 non-null   int64 \n",
      " 11  Gender                    1470 non-null   object\n",
      " 12  HourlyRate                1470 non-null   int64 \n",
      " 13  JobInvolvement            1470 non-null   int64 \n",
      " 14  JobLevel                  1470 non-null   int64 \n",
      " 15  JobRole                   1470 non-null   object\n",
      " 16  JobSatisfaction           1470 non-null   int64 \n",
      " 17  MaritalStatus             1470 non-null   object\n",
      " 18  MonthlyIncome             1470 non-null   int64 \n",
      " 19  MonthlyRate               1470 non-null   int64 \n",
      " 20  NumCompaniesWorked        1470 non-null   int64 \n",
      " 21  Over18                    1470 non-null   object\n",
      " 22  OverTime                  1470 non-null   object\n",
      " 23  PercentSalaryHike         1470 non-null   int64 \n",
      " 24  PerformanceRating         1470 non-null   int64 \n",
      " 25  RelationshipSatisfaction  1470 non-null   int64 \n",
      " 26  StandardHours             1470 non-null   int64 \n",
      " 27  StockOptionLevel          1470 non-null   int64 \n",
      " 28  TotalWorkingYears         1470 non-null   int64 \n",
      " 29  TrainingTimesLastYear     1470 non-null   int64 \n",
      " 30  WorkLifeBalance           1470 non-null   int64 \n",
      " 31  YearsAtCompany            1470 non-null   int64 \n",
      " 32  YearsInCurrentRole        1470 non-null   int64 \n",
      " 33  YearsSinceLastPromotion   1470 non-null   int64 \n",
      " 34  YearsWithCurrManager      1470 non-null   int64 \n",
      "dtypes: int64(26), object(9)\n",
      "memory usage: 402.1+ KB\n"
     ]
    }
   ],
   "source": [
    "## Import Dataset\n",
    "\n",
    "data = os.path.join(os.getcwd(), \"HR-Employee-Attrition.csv\")\n",
    "df_origin = pd.read_csv(data)\n",
    "df_origin.info()"
   ]
  },
  {
   "cell_type": "markdown",
   "id": "86396324",
   "metadata": {},
   "source": [
    "## 1.1 Check the distribution of the Attrition variable"
   ]
  },
  {
   "cell_type": "code",
   "execution_count": 3,
   "id": "1205bea8",
   "metadata": {},
   "outputs": [
    {
     "name": "stdout",
     "output_type": "stream",
     "text": [
      "It is a skewed dataset!!!\n"
     ]
    },
    {
     "data": {
      "image/png": "[encoded data removed]",
      "text/plain": [
       "<Figure size 432x288 with 1 Axes>"
      ]
     },
     "metadata": {
      "needs_background": "light"
     },
     "output_type": "display_data"
    }
   ],
   "source": [
    "## Check if it is a skewed dataset\n",
    "\n",
    "classes = ['No', 'Yes']\n",
    "values = list(df_origin['Attrition'].value_counts())\n",
    "plt.bar(classes, values, color ='royalblue', width=0.6)\n",
    " \n",
    "plt.xlabel(\"Attrition\", fontsize=13)\n",
    "plt.ylabel(\"No. of employees\", fontsize=13)\n",
    "plt.title(\"Employee Attrition Distribution\", fontsize=14)\n",
    "\n",
    "# plt.savefig(\"Employee Attrition Distribution.png\")\n",
    "\n",
    "print(\"It is a skewed dataset!!!\")"
   ]
  },
  {
   "cell_type": "code",
   "execution_count": 4,
   "id": "36771caa",
   "metadata": {},
   "outputs": [],
   "source": [
    "## Encode target variable 'Attrition' Yes/No by 1/0 respectively\n",
    "\n",
    "df_origin['Attrition'] = df_origin['Attrition'].map({'Yes': 1, 'No': 0})"
   ]
  },
  {
   "cell_type": "code",
   "execution_count": 5,
   "id": "3865b983",
   "metadata": {},
   "outputs": [],
   "source": [
    "## Drop variables mentioned in the EDA jupyter notebook\n",
    "\n",
    "\n",
    "var_drop_1 = ['Over18','EmployeeCount', 'EmployeeNumber', 'StandardHours',\n",
    "              \"HourlyRate\", \"MonthlyRate\", \"NumCompaniesWorked\", \"PercentSalaryHike\", \"YearsSinceLastPromotion\", \"PerformanceRating\",  \"RelationshipSatisfaction\",\n",
    "              'TotalWorkingYears', 'YearsAtCompany', 'YearsWithCurrManager', 'MonthlyIncome',\n",
    "              'Education', 'Gender',\n",
    "              'JobRole']\n",
    "              \n",
    "df_1 = df_origin.drop(var_drop_1, axis=1)"
   ]
  },
  {
   "cell_type": "markdown",
   "id": "c31d87c2",
   "metadata": {},
   "source": [
    "# 2. One-hot Encoding, Dataset Spliting and Oversampling"
   ]
  },
  {
   "cell_type": "code",
   "execution_count": 6,
   "id": "994c9c41",
   "metadata": {},
   "outputs": [
    {
     "name": "stdout",
     "output_type": "stream",
     "text": [
      "There are 5 categorical variables\n",
      "\n",
      "The categorical variables are : ['BusinessTravel', 'Department', 'EducationField', 'MaritalStatus', 'OverTime']\n",
      "categorial var 'BusinessTravel' has 3 classes\n",
      "['Travel_Rarely' 'Travel_Frequently' 'Non-Travel']\n",
      "categorial var 'Department' has 3 classes\n",
      "['Sales' 'Research & Development' 'Human Resources']\n",
      "categorial var 'EducationField' has 6 classes\n",
      "['Life Sciences' 'Other' 'Medical' 'Marketing' 'Technical Degree'\n",
      " 'Human Resources']\n",
      "categorial var 'MaritalStatus' has 3 classes\n",
      "['Single' 'Married' 'Divorced']\n",
      "categorial var 'OverTime' has 2 classes\n",
      "['Yes' 'No']\n"
     ]
    }
   ],
   "source": [
    "## Find categorical variables\n",
    "\n",
    "categorical = [var for var in df_1.columns if df_1[var].dtype=='O']\n",
    "print('There are {} categorical variables\\n'.format(len(categorical)))\n",
    "print('The categorical variables are :', categorical)\n",
    "for var in categorical:\n",
    "    print(\"categorial var '{}' has {} classes\".format(var, len(df_1[var].unique())))\n",
    "    print(df_1[var].unique())"
   ]
  },
  {
   "cell_type": "code",
   "execution_count": 7,
   "id": "38beb704",
   "metadata": {},
   "outputs": [
    {
     "name": "stdout",
     "output_type": "stream",
     "text": [
      "There are 12 numerical variables\n",
      "\n",
      "The numerical variables are : ['Age', 'Attrition', 'DailyRate', 'DistanceFromHome', 'EnvironmentSatisfaction', 'JobInvolvement', 'JobLevel', 'JobSatisfaction', 'StockOptionLevel', 'TrainingTimesLastYear', 'WorkLifeBalance', 'YearsInCurrentRole']\n"
     ]
    }
   ],
   "source": [
    "## Find numerical variables\n",
    "\n",
    "numerical = [var for var in df_1.columns if df_1[var].dtype!='O']\n",
    "print('There are {} numerical variables\\n'.format(len(numerical)))\n",
    "print('The numerical variables are :', numerical)"
   ]
  },
  {
   "cell_type": "markdown",
   "id": "a7aae058",
   "metadata": {},
   "source": [
    "## 2.1 One-hot Encoding"
   ]
  },
  {
   "cell_type": "code",
   "execution_count": 8,
   "id": "c1e56ea3",
   "metadata": {},
   "outputs": [],
   "source": [
    "## Apply one-hot encoding to the categorical variables in our dataset\n",
    "\n",
    "df_1 = pd.concat([df_1[numerical], \n",
    "                 pd.get_dummies(df_1[categorical], columns=categorical, prefix=categorical)], axis=1)"
   ]
  },
  {
   "cell_type": "code",
   "execution_count": 9,
   "id": "7acf0d0b",
   "metadata": {},
   "outputs": [
    {
     "data": {
      "text/html": [
       "<div>\n",
       "<style scoped>\n",
       "    .dataframe tbody tr th:only-of-type {\n",
       "        vertical-align: middle;\n",
       "    }\n",
       "\n",
       "    .dataframe tbody tr th {\n",
       "        vertical-align: top;\n",
       "    }\n",
       "\n",
       "    .dataframe thead th {\n",
       "        text-align: right;\n",
       "    }\n",
       "</style>\n",
       "<table border=\"1\" class=\"dataframe\">\n",
       "  <thead>\n",
       "    <tr style=\"text-align: right;\">\n",
       "      <th></th>\n",
       "      <th>Age</th>\n",
       "      <th>Attrition</th>\n",
       "      <th>DailyRate</th>\n",
       "      <th>DistanceFromHome</th>\n",
       "      <th>EnvironmentSatisfaction</th>\n",
       "      <th>JobInvolvement</th>\n",
       "      <th>JobLevel</th>\n",
       "      <th>JobSatisfaction</th>\n",
       "      <th>StockOptionLevel</th>\n",
       "      <th>TrainingTimesLastYear</th>\n",
       "      <th>...</th>\n",
       "      <th>EducationField_Life Sciences</th>\n",
       "      <th>EducationField_Marketing</th>\n",
       "      <th>EducationField_Medical</th>\n",
       "      <th>EducationField_Other</th>\n",
       "      <th>EducationField_Technical Degree</th>\n",
       "      <th>MaritalStatus_Divorced</th>\n",
       "      <th>MaritalStatus_Married</th>\n",
       "      <th>MaritalStatus_Single</th>\n",
       "      <th>OverTime_No</th>\n",
       "      <th>OverTime_Yes</th>\n",
       "    </tr>\n",
       "  </thead>\n",
       "  <tbody>\n",
       "    <tr>\n",
       "      <th>0</th>\n",
       "      <td>41</td>\n",
       "      <td>1</td>\n",
       "      <td>1102</td>\n",
       "      <td>1</td>\n",
       "      <td>2</td>\n",
       "      <td>3</td>\n",
       "      <td>2</td>\n",
       "      <td>4</td>\n",
       "      <td>0</td>\n",
       "      <td>0</td>\n",
       "      <td>...</td>\n",
       "      <td>1</td>\n",
       "      <td>0</td>\n",
       "      <td>0</td>\n",
       "      <td>0</td>\n",
       "      <td>0</td>\n",
       "      <td>0</td>\n",
       "      <td>0</td>\n",
       "      <td>1</td>\n",
       "      <td>0</td>\n",
       "      <td>1</td>\n",
       "    </tr>\n",
       "    <tr>\n",
       "      <th>1</th>\n",
       "      <td>49</td>\n",
       "      <td>0</td>\n",
       "      <td>279</td>\n",
       "      <td>8</td>\n",
       "      <td>3</td>\n",
       "      <td>2</td>\n",
       "      <td>2</td>\n",
       "      <td>2</td>\n",
       "      <td>1</td>\n",
       "      <td>3</td>\n",
       "      <td>...</td>\n",
       "      <td>1</td>\n",
       "      <td>0</td>\n",
       "      <td>0</td>\n",
       "      <td>0</td>\n",
       "      <td>0</td>\n",
       "      <td>0</td>\n",
       "      <td>1</td>\n",
       "      <td>0</td>\n",
       "      <td>1</td>\n",
       "      <td>0</td>\n",
       "    </tr>\n",
       "    <tr>\n",
       "      <th>2</th>\n",
       "      <td>37</td>\n",
       "      <td>1</td>\n",
       "      <td>1373</td>\n",
       "      <td>2</td>\n",
       "      <td>4</td>\n",
       "      <td>2</td>\n",
       "      <td>1</td>\n",
       "      <td>3</td>\n",
       "      <td>0</td>\n",
       "      <td>3</td>\n",
       "      <td>...</td>\n",
       "      <td>0</td>\n",
       "      <td>0</td>\n",
       "      <td>0</td>\n",
       "      <td>1</td>\n",
       "      <td>0</td>\n",
       "      <td>0</td>\n",
       "      <td>0</td>\n",
       "      <td>1</td>\n",
       "      <td>0</td>\n",
       "      <td>1</td>\n",
       "    </tr>\n",
       "    <tr>\n",
       "      <th>3</th>\n",
       "      <td>33</td>\n",
       "      <td>0</td>\n",
       "      <td>1392</td>\n",
       "      <td>3</td>\n",
       "      <td>4</td>\n",
       "      <td>3</td>\n",
       "      <td>1</td>\n",
       "      <td>3</td>\n",
       "      <td>0</td>\n",
       "      <td>3</td>\n",
       "      <td>...</td>\n",
       "      <td>1</td>\n",
       "      <td>0</td>\n",
       "      <td>0</td>\n",
       "      <td>0</td>\n",
       "      <td>0</td>\n",
       "      <td>0</td>\n",
       "      <td>1</td>\n",
       "      <td>0</td>\n",
       "      <td>0</td>\n",
       "      <td>1</td>\n",
       "    </tr>\n",
       "    <tr>\n",
       "      <th>4</th>\n",
       "      <td>27</td>\n",
       "      <td>0</td>\n",
       "      <td>591</td>\n",
       "      <td>2</td>\n",
       "      <td>1</td>\n",
       "      <td>3</td>\n",
       "      <td>1</td>\n",
       "      <td>2</td>\n",
       "      <td>1</td>\n",
       "      <td>3</td>\n",
       "      <td>...</td>\n",
       "      <td>0</td>\n",
       "      <td>0</td>\n",
       "      <td>1</td>\n",
       "      <td>0</td>\n",
       "      <td>0</td>\n",
       "      <td>0</td>\n",
       "      <td>1</td>\n",
       "      <td>0</td>\n",
       "      <td>1</td>\n",
       "      <td>0</td>\n",
       "    </tr>\n",
       "  </tbody>\n",
       "</table>\n",
       "<p>5 rows × 29 columns</p>\n",
       "</div>"
      ],
      "text/plain": [
       "   Age  Attrition  DailyRate  DistanceFromHome  EnvironmentSatisfaction  \\\n",
       "0   41          1       1102                 1                        2   \n",
       "1   49          0        279                 8                        3   \n",
       "2   37          1       1373                 2                        4   \n",
       "3   33          0       1392                 3                        4   \n",
       "4   27          0        591                 2                        1   \n",
       "\n",
       "   JobInvolvement  JobLevel  JobSatisfaction  StockOptionLevel  \\\n",
       "0               3         2                4                 0   \n",
       "1               2         2                2                 1   \n",
       "2               2         1                3                 0   \n",
       "3               3         1                3                 0   \n",
       "4               3         1                2                 1   \n",
       "\n",
       "   TrainingTimesLastYear  ...  EducationField_Life Sciences  \\\n",
       "0                      0  ...                             1   \n",
       "1                      3  ...                             1   \n",
       "2                      3  ...                             0   \n",
       "3                      3  ...                             1   \n",
       "4                      3  ...                             0   \n",
       "\n",
       "   EducationField_Marketing  EducationField_Medical  EducationField_Other  \\\n",
       "0                         0                       0                     0   \n",
       "1                         0                       0                     0   \n",
       "2                         0                       0                     1   \n",
       "3                         0                       0                     0   \n",
       "4                         0                       1                     0   \n",
       "\n",
       "   EducationField_Technical Degree  MaritalStatus_Divorced  \\\n",
       "0                                0                       0   \n",
       "1                                0                       0   \n",
       "2                                0                       0   \n",
       "3                                0                       0   \n",
       "4                                0                       0   \n",
       "\n",
       "   MaritalStatus_Married  MaritalStatus_Single  OverTime_No  OverTime_Yes  \n",
       "0                      0                     1            0             1  \n",
       "1                      1                     0            1             0  \n",
       "2                      0                     1            0             1  \n",
       "3                      1                     0            0             1  \n",
       "4                      1                     0            1             0  \n",
       "\n",
       "[5 rows x 29 columns]"
      ]
     },
     "execution_count": 9,
     "metadata": {},
     "output_type": "execute_result"
    }
   ],
   "source": [
    "df_1.head()"
   ]
  },
  {
   "cell_type": "markdown",
   "id": "56391757",
   "metadata": {},
   "source": [
    "## 2.2 Dataset Spliting"
   ]
  },
  {
   "cell_type": "code",
   "execution_count": 10,
   "id": "a0a75701",
   "metadata": {},
   "outputs": [],
   "source": [
    "## Split dataset into training and testing\n",
    "\n",
    "from sklearn.model_selection import train_test_split\n",
    "\n",
    "X, y = df_1.drop(['Attrition'], axis=1), df_1['Attrition']\n",
    "X_train, X_test, y_train, y_test = train_test_split(X, y, test_size = 0.2, random_state = 0)"
   ]
  },
  {
   "cell_type": "code",
   "execution_count": 11,
   "id": "4c9835fa",
   "metadata": {},
   "outputs": [
    {
     "data": {
      "image/png": "[encoded data removed]",
      "text/plain": [
       "<Figure size 432x288 with 1 Axes>"
      ]
     },
     "metadata": {
      "needs_background": "light"
     },
     "output_type": "display_data"
    }
   ],
   "source": [
    "## Check the distribution of Attrtion variable in Training Dataset\n",
    "\n",
    "classes = ['No', 'Yes']\n",
    "values = list(y_train.value_counts())\n",
    "plt.bar(classes, values, color ='royalblue', width=0.6)\n",
    " \n",
    "plt.xlabel(\"Attrition\", fontsize=13)\n",
    "plt.ylabel(\"No. of employees\", fontsize=13)\n",
    "plt.title(\"Attrition Distribution of Training Dataset\", fontsize=14)\n",
    "plt.show()\n",
    "# plt.savefig(\"Attrition Distribution of Training Dataset.png\")"
   ]
  },
  {
   "cell_type": "markdown",
   "id": "6dc2c6e8",
   "metadata": {},
   "source": [
    "## 2.3 Apply Random Oversampling (ROS) on Training dataset"
   ]
  },
  {
   "cell_type": "code",
   "execution_count": 12,
   "id": "7245ef4b",
   "metadata": {},
   "outputs": [],
   "source": [
    "## Apply Random Oversampling on Training dataset\n",
    "\n",
    "from imblearn.over_sampling import SMOTE, RandomOverSampler\n",
    "\n",
    "# sm = SMOTE(random_state = 0)\n",
    "# X_train, y_train = sm.fit_resample(X_train, y_train)\n",
    "# print(\"Distribution of Training dataset after SMOTE\")\n",
    "\n",
    "ros = RandomOverSampler(random_state=0)\n",
    "X_train, y_train = ros.fit_resample(X_train, y_train)"
   ]
  },
  {
   "cell_type": "code",
   "execution_count": 13,
   "id": "1b40313b",
   "metadata": {},
   "outputs": [
    {
     "data": {
      "image/png": "[encoded data removed]",
      "text/plain": [
       "<Figure size 432x288 with 1 Axes>"
      ]
     },
     "metadata": {
      "needs_background": "light"
     },
     "output_type": "display_data"
    }
   ],
   "source": [
    "## Check the distribution of Attrition variable after ROS\n",
    "\n",
    "classes = ['No', 'Yes']\n",
    "values = list(y_train.value_counts())\n",
    "plt.bar(classes, values, color ='royalblue', width=0.6)\n",
    " \n",
    "plt.xlabel(\"Attrition\", fontsize=13)\n",
    "plt.ylabel(\"No. of employees\", fontsize=13)\n",
    "# plt.title(\"Attrition Distribution of Training Dataset (After Oversampling)\", fontsize=14)\n",
    "# plt.savefig(\"Attrition Distribution of Training Dataset (After Oversampling).png\")\n",
    "plt.title(\"Attrition Distribution of Training Dataset (After ROS)\", fontsize=14)\n",
    "plt.show()\n",
    "# plt.savefig(\"Attrition Distribution of Training Dataset (After ROS).png\")"
   ]
  },
  {
   "cell_type": "code",
   "execution_count": 14,
   "id": "501f02c5",
   "metadata": {},
   "outputs": [
    {
     "data": {
      "text/plain": [
       "((1976, 28), (1976,))"
      ]
     },
     "execution_count": 14,
     "metadata": {},
     "output_type": "execute_result"
    }
   ],
   "source": [
    "# Size of Training Dataset\n",
    "\n",
    "X_train.shape, y_train.shape"
   ]
  },
  {
   "cell_type": "markdown",
   "id": "6f2b665b",
   "metadata": {},
   "source": [
    "# 3. Logistic Regression"
   ]
  },
  {
   "cell_type": "markdown",
   "id": "56d5169a",
   "metadata": {},
   "source": [
    "## 3.1 Model Training"
   ]
  },
  {
   "cell_type": "code",
   "execution_count": 15,
   "id": "22312f74",
   "metadata": {},
   "outputs": [
    {
     "data": {
      "text/plain": [
       "LogisticRegressionCV(cv=5, random_state=0)"
      ]
     },
     "execution_count": 15,
     "metadata": {},
     "output_type": "execute_result"
    }
   ],
   "source": [
    "from sklearn.linear_model import LogisticRegression, LogisticRegressionCV\n",
    "\n",
    "# instantiate the model\n",
    "logreg = LogisticRegressionCV(cv=5, random_state=0)\n",
    "\n",
    "# fit the model\n",
    "logreg.fit(X_train, y_train)"
   ]
  },
  {
   "cell_type": "code",
   "execution_count": 16,
   "id": "45c3091a",
   "metadata": {},
   "outputs": [],
   "source": [
    "# Predictions on Training and Testing Dataset\n",
    "\n",
    "y_pred_train = logreg.predict(X_train)\n",
    "y_pred_test = logreg.predict(X_test)"
   ]
  },
  {
   "cell_type": "code",
   "execution_count": 17,
   "id": "cfe14fd3",
   "metadata": {},
   "outputs": [
    {
     "name": "stdout",
     "output_type": "stream",
     "text": [
      "Training-set accuracy score: 0.7525\n",
      "Testing-set accuracy score: 0.7619\n"
     ]
    }
   ],
   "source": [
    "from sklearn.metrics import accuracy_score\n",
    "\n",
    "print('Training-set accuracy score: {0:0.4f}'. format(accuracy_score(y_train, y_pred_train)))\n",
    "print('Testing-set accuracy score: {0:0.4f}'. format(accuracy_score(y_test, y_pred_test)))"
   ]
  },
  {
   "cell_type": "markdown",
   "id": "a906a2d0",
   "metadata": {},
   "source": [
    "## 3.2 Logistic Regression Model Evaluation"
   ]
  },
  {
   "cell_type": "code",
   "execution_count": 18,
   "id": "04cfd50f",
   "metadata": {},
   "outputs": [
    {
     "data": {
      "image/png": "[encoded data removed]",
      "text/plain": [
       "<Figure size 432x288 with 2 Axes>"
      ]
     },
     "metadata": {
      "needs_background": "light"
     },
     "output_type": "display_data"
    }
   ],
   "source": [
    "## Print the Confusion Matrix\n",
    "\n",
    "from sklearn.metrics import plot_confusion_matrix\n",
    "import matplotlib.pyplot as plt\n",
    "\n",
    "plot_confusion_matrix(logreg, X_test, y_test) \n",
    "plt.title('Logistic Regression Confusion Matrix (ROS)')\n",
    "# plt.savefig('Logistic Regression Confusion Matrix (ROS).png')\n",
    "plt.show()"
   ]
  },
  {
   "cell_type": "code",
   "execution_count": 19,
   "id": "8845b8fe",
   "metadata": {},
   "outputs": [],
   "source": [
    "## Get numbers from the Confusion Matrix\n",
    "\n",
    "TP, TN, FP, FN = 42, 182, 63, 7"
   ]
  },
  {
   "cell_type": "code",
   "execution_count": 20,
   "id": "9b982120",
   "metadata": {},
   "outputs": [
    {
     "name": "stdout",
     "output_type": "stream",
     "text": [
      "Classification accuracy : 0.7619\n"
     ]
    }
   ],
   "source": [
    "# print classification accuracy\n",
    "\n",
    "classification_accuracy = (TP + TN) / float(TP + TN + FP + FN)\n",
    "\n",
    "print('Classification accuracy : {0:0.4f}'.format(classification_accuracy))"
   ]
  },
  {
   "cell_type": "code",
   "execution_count": 21,
   "id": "e8d6a4d1",
   "metadata": {},
   "outputs": [
    {
     "name": "stdout",
     "output_type": "stream",
     "text": [
      "Precision : 0.4000\n"
     ]
    }
   ],
   "source": [
    "# print precision score\n",
    "\n",
    "precision = TP / float(TP + FP)\n",
    "\n",
    "print('Precision : {0:0.4f}'.format(precision))"
   ]
  },
  {
   "cell_type": "code",
   "execution_count": 22,
   "id": "643305d6",
   "metadata": {},
   "outputs": [
    {
     "name": "stdout",
     "output_type": "stream",
     "text": [
      "Recall or Sensitivity : 0.8571\n"
     ]
    }
   ],
   "source": [
    "# print recall score\n",
    "\n",
    "recall = TP / float(TP + FN)\n",
    "\n",
    "print('Recall or Sensitivity : {0:0.4f}'.format(recall))"
   ]
  },
  {
   "cell_type": "code",
   "execution_count": 23,
   "id": "9f3a9c14",
   "metadata": {},
   "outputs": [
    {
     "name": "stdout",
     "output_type": "stream",
     "text": [
      "Specificity : 0.7429\n"
     ]
    }
   ],
   "source": [
    "# print specificity score\n",
    "\n",
    "specificity = TN / float(TN + FP)\n",
    "\n",
    "print('Specificity : {0:0.4f}'.format(specificity))"
   ]
  },
  {
   "cell_type": "code",
   "execution_count": 24,
   "id": "980920f5",
   "metadata": {},
   "outputs": [
    {
     "name": "stdout",
     "output_type": "stream",
     "text": [
      "F1-score : 0.5455\n"
     ]
    }
   ],
   "source": [
    "# print f1-score\n",
    "\n",
    "f1_score = 2 * (precision * recall / float(precision + recall))\n",
    "\n",
    "print('F1-score : {0:0.4f}'.format(f1_score))"
   ]
  },
  {
   "cell_type": "code",
   "execution_count": 25,
   "id": "5dee237c",
   "metadata": {},
   "outputs": [
    {
     "data": {
      "image/png": "[encoded data removed]",
      "text/plain": [
       "<Figure size 432x288 with 1 Axes>"
      ]
     },
     "metadata": {
      "needs_background": "light"
     },
     "output_type": "display_data"
    },
    {
     "name": "stdout",
     "output_type": "stream",
     "text": [
      "ROC AUC : 0.8571\n"
     ]
    }
   ],
   "source": [
    "# plot ROC Curve\n",
    "\n",
    "from sklearn.metrics import roc_curve\n",
    "\n",
    "y_pred1 = logreg.predict_proba(X_test)[:, 1]\n",
    "fpr, tpr, thresholds = roc_curve(y_test, y_pred1)\n",
    "\n",
    "plt.figure(figsize=(6,4))\n",
    "plt.plot(fpr, tpr, linewidth=2)\n",
    "plt.plot([0,1], [0,1], 'k--' )\n",
    "plt.rcParams['font.size'] = 12\n",
    "plt.title('ROC curve for Employee Attrition classifier')\n",
    "plt.xlabel('False Positive Rate (1 - Specificity)')\n",
    "plt.ylabel('True Positive Rate (Sensitivity)')\n",
    "plt.show()\n",
    "\n",
    "# compute ROC AUC\n",
    "\n",
    "from sklearn.metrics import roc_auc_score\n",
    "\n",
    "ROC_AUC = roc_auc_score(y_test, y_pred1)\n",
    "print('ROC AUC : {:.4f}'.format(ROC_AUC))"
   ]
  },
  {
   "cell_type": "markdown",
   "id": "b649e887",
   "metadata": {},
   "source": [
    "## 3.3 Logistic Regression Coeffient and Odds Ratio"
   ]
  },
  {
   "cell_type": "code",
   "execution_count": 26,
   "id": "8e457275",
   "metadata": {},
   "outputs": [
    {
     "data": {
      "text/html": [
       "<div>\n",
       "<style scoped>\n",
       "    .dataframe tbody tr th:only-of-type {\n",
       "        vertical-align: middle;\n",
       "    }\n",
       "\n",
       "    .dataframe tbody tr th {\n",
       "        vertical-align: top;\n",
       "    }\n",
       "\n",
       "    .dataframe thead th {\n",
       "        text-align: right;\n",
       "    }\n",
       "</style>\n",
       "<table border=\"1\" class=\"dataframe\">\n",
       "  <thead>\n",
       "    <tr style=\"text-align: right;\">\n",
       "      <th></th>\n",
       "      <th>Feature</th>\n",
       "      <th>Coef</th>\n",
       "      <th>Odds_Ratio</th>\n",
       "    </tr>\n",
       "  </thead>\n",
       "  <tbody>\n",
       "    <tr>\n",
       "      <th>27</th>\n",
       "      <td>OverTime_Yes</td>\n",
       "      <td>1.262636</td>\n",
       "      <td>3.534726</td>\n",
       "    </tr>\n",
       "    <tr>\n",
       "      <th>12</th>\n",
       "      <td>BusinessTravel_Travel_Frequently</td>\n",
       "      <td>1.121807</td>\n",
       "      <td>3.070398</td>\n",
       "    </tr>\n",
       "    <tr>\n",
       "      <th>25</th>\n",
       "      <td>MaritalStatus_Single</td>\n",
       "      <td>0.918512</td>\n",
       "      <td>2.505558</td>\n",
       "    </tr>\n",
       "    <tr>\n",
       "      <th>17</th>\n",
       "      <td>EducationField_Human Resources</td>\n",
       "      <td>0.643374</td>\n",
       "      <td>1.902890</td>\n",
       "    </tr>\n",
       "    <tr>\n",
       "      <th>22</th>\n",
       "      <td>EducationField_Technical Degree</td>\n",
       "      <td>0.635171</td>\n",
       "      <td>1.887346</td>\n",
       "    </tr>\n",
       "    <tr>\n",
       "      <th>16</th>\n",
       "      <td>Department_Sales</td>\n",
       "      <td>0.611904</td>\n",
       "      <td>1.843938</td>\n",
       "    </tr>\n",
       "    <tr>\n",
       "      <th>13</th>\n",
       "      <td>BusinessTravel_Travel_Rarely</td>\n",
       "      <td>0.485207</td>\n",
       "      <td>1.624511</td>\n",
       "    </tr>\n",
       "    <tr>\n",
       "      <th>24</th>\n",
       "      <td>MaritalStatus_Married</td>\n",
       "      <td>0.382296</td>\n",
       "      <td>1.465645</td>\n",
       "    </tr>\n",
       "    <tr>\n",
       "      <th>14</th>\n",
       "      <td>Department_Human Resources</td>\n",
       "      <td>0.270442</td>\n",
       "      <td>1.310544</td>\n",
       "    </tr>\n",
       "    <tr>\n",
       "      <th>15</th>\n",
       "      <td>Department_Research &amp; Development</td>\n",
       "      <td>0.234012</td>\n",
       "      <td>1.263660</td>\n",
       "    </tr>\n",
       "    <tr>\n",
       "      <th>19</th>\n",
       "      <td>EducationField_Marketing</td>\n",
       "      <td>0.160514</td>\n",
       "      <td>1.174114</td>\n",
       "    </tr>\n",
       "    <tr>\n",
       "      <th>21</th>\n",
       "      <td>EducationField_Other</td>\n",
       "      <td>0.040569</td>\n",
       "      <td>1.041403</td>\n",
       "    </tr>\n",
       "    <tr>\n",
       "      <th>2</th>\n",
       "      <td>DistanceFromHome</td>\n",
       "      <td>0.035082</td>\n",
       "      <td>1.035705</td>\n",
       "    </tr>\n",
       "    <tr>\n",
       "      <th>1</th>\n",
       "      <td>DailyRate</td>\n",
       "      <td>-0.000479</td>\n",
       "      <td>0.999521</td>\n",
       "    </tr>\n",
       "    <tr>\n",
       "      <th>0</th>\n",
       "      <td>Age</td>\n",
       "      <td>-0.016398</td>\n",
       "      <td>0.983736</td>\n",
       "    </tr>\n",
       "    <tr>\n",
       "      <th>10</th>\n",
       "      <td>YearsInCurrentRole</td>\n",
       "      <td>-0.071740</td>\n",
       "      <td>0.930773</td>\n",
       "    </tr>\n",
       "    <tr>\n",
       "      <th>8</th>\n",
       "      <td>TrainingTimesLastYear</td>\n",
       "      <td>-0.110528</td>\n",
       "      <td>0.895361</td>\n",
       "    </tr>\n",
       "    <tr>\n",
       "      <th>26</th>\n",
       "      <td>OverTime_No</td>\n",
       "      <td>-0.146278</td>\n",
       "      <td>0.863918</td>\n",
       "    </tr>\n",
       "    <tr>\n",
       "      <th>20</th>\n",
       "      <td>EducationField_Medical</td>\n",
       "      <td>-0.169508</td>\n",
       "      <td>0.844080</td>\n",
       "    </tr>\n",
       "    <tr>\n",
       "      <th>23</th>\n",
       "      <td>MaritalStatus_Divorced</td>\n",
       "      <td>-0.184449</td>\n",
       "      <td>0.831562</td>\n",
       "    </tr>\n",
       "    <tr>\n",
       "      <th>7</th>\n",
       "      <td>StockOptionLevel</td>\n",
       "      <td>-0.184835</td>\n",
       "      <td>0.831242</td>\n",
       "    </tr>\n",
       "    <tr>\n",
       "      <th>18</th>\n",
       "      <td>EducationField_Life Sciences</td>\n",
       "      <td>-0.193762</td>\n",
       "      <td>0.823854</td>\n",
       "    </tr>\n",
       "    <tr>\n",
       "      <th>6</th>\n",
       "      <td>JobSatisfaction</td>\n",
       "      <td>-0.274002</td>\n",
       "      <td>0.760330</td>\n",
       "    </tr>\n",
       "    <tr>\n",
       "      <th>5</th>\n",
       "      <td>JobLevel</td>\n",
       "      <td>-0.301465</td>\n",
       "      <td>0.739734</td>\n",
       "    </tr>\n",
       "    <tr>\n",
       "      <th>9</th>\n",
       "      <td>WorkLifeBalance</td>\n",
       "      <td>-0.306462</td>\n",
       "      <td>0.736046</td>\n",
       "    </tr>\n",
       "    <tr>\n",
       "      <th>3</th>\n",
       "      <td>EnvironmentSatisfaction</td>\n",
       "      <td>-0.309494</td>\n",
       "      <td>0.733818</td>\n",
       "    </tr>\n",
       "    <tr>\n",
       "      <th>4</th>\n",
       "      <td>JobInvolvement</td>\n",
       "      <td>-0.446920</td>\n",
       "      <td>0.639595</td>\n",
       "    </tr>\n",
       "    <tr>\n",
       "      <th>11</th>\n",
       "      <td>BusinessTravel_Non-Travel</td>\n",
       "      <td>-0.490656</td>\n",
       "      <td>0.612225</td>\n",
       "    </tr>\n",
       "  </tbody>\n",
       "</table>\n",
       "</div>"
      ],
      "text/plain": [
       "                              Feature      Coef  Odds_Ratio\n",
       "27                       OverTime_Yes  1.262636    3.534726\n",
       "12   BusinessTravel_Travel_Frequently  1.121807    3.070398\n",
       "25               MaritalStatus_Single  0.918512    2.505558\n",
       "17     EducationField_Human Resources  0.643374    1.902890\n",
       "22    EducationField_Technical Degree  0.635171    1.887346\n",
       "16                   Department_Sales  0.611904    1.843938\n",
       "13       BusinessTravel_Travel_Rarely  0.485207    1.624511\n",
       "24              MaritalStatus_Married  0.382296    1.465645\n",
       "14         Department_Human Resources  0.270442    1.310544\n",
       "15  Department_Research & Development  0.234012    1.263660\n",
       "19           EducationField_Marketing  0.160514    1.174114\n",
       "21               EducationField_Other  0.040569    1.041403\n",
       "2                    DistanceFromHome  0.035082    1.035705\n",
       "1                           DailyRate -0.000479    0.999521\n",
       "0                                 Age -0.016398    0.983736\n",
       "10                 YearsInCurrentRole -0.071740    0.930773\n",
       "8               TrainingTimesLastYear -0.110528    0.895361\n",
       "26                        OverTime_No -0.146278    0.863918\n",
       "20             EducationField_Medical -0.169508    0.844080\n",
       "23             MaritalStatus_Divorced -0.184449    0.831562\n",
       "7                    StockOptionLevel -0.184835    0.831242\n",
       "18       EducationField_Life Sciences -0.193762    0.823854\n",
       "6                     JobSatisfaction -0.274002    0.760330\n",
       "5                            JobLevel -0.301465    0.739734\n",
       "9                     WorkLifeBalance -0.306462    0.736046\n",
       "3             EnvironmentSatisfaction -0.309494    0.733818\n",
       "4                      JobInvolvement -0.446920    0.639595\n",
       "11          BusinessTravel_Non-Travel -0.490656    0.612225"
      ]
     },
     "execution_count": 26,
     "metadata": {},
     "output_type": "execute_result"
    }
   ],
   "source": [
    "## Calculate Odds Ratio of Logistic Regression\n",
    "\n",
    "coef_table = pd.DataFrame(list(X_train.columns)).copy()\n",
    "coef_table.insert(len(coef_table.columns),\"Coefs\",logreg.coef_.transpose())\n",
    "coef_table.insert(len(coef_table.columns),\"Odds_Ratio\",np.exp(logreg.coef_.transpose()))\n",
    "\n",
    "logreg_odds_ratio = coef_table.sort_values([\"Odds_Ratio\"], ascending=False).rename(\n",
    "    columns={0: \"Feature\", \"Coefs\": \"Coef\", \"Odds_Ratio\": \"Odds_Ratio\"})\n",
    "logreg_odds_ratio\n",
    "\n",
    "# logreg_odds_ratio.to_csv(\"logreg_odds_ratio.csv\", index=False)"
   ]
  },
  {
   "cell_type": "markdown",
   "id": "4c39f672",
   "metadata": {},
   "source": [
    "## 3.4 Append Model Predictions to Employee Dataset"
   ]
  },
  {
   "cell_type": "code",
   "execution_count": 27,
   "id": "b823cffb",
   "metadata": {},
   "outputs": [
    {
     "data": {
      "text/html": [
       "<div>\n",
       "<style scoped>\n",
       "    .dataframe tbody tr th:only-of-type {\n",
       "        vertical-align: middle;\n",
       "    }\n",
       "\n",
       "    .dataframe tbody tr th {\n",
       "        vertical-align: top;\n",
       "    }\n",
       "\n",
       "    .dataframe thead th {\n",
       "        text-align: right;\n",
       "    }\n",
       "</style>\n",
       "<table border=\"1\" class=\"dataframe\">\n",
       "  <thead>\n",
       "    <tr style=\"text-align: right;\">\n",
       "      <th></th>\n",
       "      <th>proba_No</th>\n",
       "      <th>proba_Yes</th>\n",
       "      <th>Predict Atrrition Label</th>\n",
       "      <th>Real Attrition Label</th>\n",
       "      <th>Age</th>\n",
       "      <th>DailyRate</th>\n",
       "      <th>DistanceFromHome</th>\n",
       "      <th>EnvironmentSatisfaction</th>\n",
       "      <th>JobInvolvement</th>\n",
       "      <th>JobLevel</th>\n",
       "      <th>...</th>\n",
       "      <th>EducationField_Life Sciences</th>\n",
       "      <th>EducationField_Marketing</th>\n",
       "      <th>EducationField_Medical</th>\n",
       "      <th>EducationField_Other</th>\n",
       "      <th>EducationField_Technical Degree</th>\n",
       "      <th>MaritalStatus_Divorced</th>\n",
       "      <th>MaritalStatus_Married</th>\n",
       "      <th>MaritalStatus_Single</th>\n",
       "      <th>OverTime_No</th>\n",
       "      <th>OverTime_Yes</th>\n",
       "    </tr>\n",
       "  </thead>\n",
       "  <tbody>\n",
       "    <tr>\n",
       "      <th>0</th>\n",
       "      <td>0.214148</td>\n",
       "      <td>0.785852</td>\n",
       "      <td>Yes</td>\n",
       "      <td>Yes</td>\n",
       "      <td>41</td>\n",
       "      <td>1102</td>\n",
       "      <td>1</td>\n",
       "      <td>2</td>\n",
       "      <td>3</td>\n",
       "      <td>2</td>\n",
       "      <td>...</td>\n",
       "      <td>1</td>\n",
       "      <td>0</td>\n",
       "      <td>0</td>\n",
       "      <td>0</td>\n",
       "      <td>0</td>\n",
       "      <td>0</td>\n",
       "      <td>0</td>\n",
       "      <td>1</td>\n",
       "      <td>0</td>\n",
       "      <td>1</td>\n",
       "    </tr>\n",
       "    <tr>\n",
       "      <th>1</th>\n",
       "      <td>0.631011</td>\n",
       "      <td>0.368989</td>\n",
       "      <td>No</td>\n",
       "      <td>No</td>\n",
       "      <td>49</td>\n",
       "      <td>279</td>\n",
       "      <td>8</td>\n",
       "      <td>3</td>\n",
       "      <td>2</td>\n",
       "      <td>2</td>\n",
       "      <td>...</td>\n",
       "      <td>1</td>\n",
       "      <td>0</td>\n",
       "      <td>0</td>\n",
       "      <td>0</td>\n",
       "      <td>0</td>\n",
       "      <td>0</td>\n",
       "      <td>1</td>\n",
       "      <td>0</td>\n",
       "      <td>1</td>\n",
       "      <td>0</td>\n",
       "    </tr>\n",
       "    <tr>\n",
       "      <th>2</th>\n",
       "      <td>0.294597</td>\n",
       "      <td>0.705403</td>\n",
       "      <td>Yes</td>\n",
       "      <td>Yes</td>\n",
       "      <td>37</td>\n",
       "      <td>1373</td>\n",
       "      <td>2</td>\n",
       "      <td>4</td>\n",
       "      <td>2</td>\n",
       "      <td>1</td>\n",
       "      <td>...</td>\n",
       "      <td>0</td>\n",
       "      <td>0</td>\n",
       "      <td>0</td>\n",
       "      <td>1</td>\n",
       "      <td>0</td>\n",
       "      <td>0</td>\n",
       "      <td>0</td>\n",
       "      <td>1</td>\n",
       "      <td>0</td>\n",
       "      <td>1</td>\n",
       "    </tr>\n",
       "    <tr>\n",
       "      <th>3</th>\n",
       "      <td>0.529545</td>\n",
       "      <td>0.470455</td>\n",
       "      <td>No</td>\n",
       "      <td>No</td>\n",
       "      <td>33</td>\n",
       "      <td>1392</td>\n",
       "      <td>3</td>\n",
       "      <td>4</td>\n",
       "      <td>3</td>\n",
       "      <td>1</td>\n",
       "      <td>...</td>\n",
       "      <td>1</td>\n",
       "      <td>0</td>\n",
       "      <td>0</td>\n",
       "      <td>0</td>\n",
       "      <td>0</td>\n",
       "      <td>0</td>\n",
       "      <td>1</td>\n",
       "      <td>0</td>\n",
       "      <td>0</td>\n",
       "      <td>1</td>\n",
       "    </tr>\n",
       "    <tr>\n",
       "      <th>4</th>\n",
       "      <td>0.578342</td>\n",
       "      <td>0.421658</td>\n",
       "      <td>No</td>\n",
       "      <td>No</td>\n",
       "      <td>27</td>\n",
       "      <td>591</td>\n",
       "      <td>2</td>\n",
       "      <td>1</td>\n",
       "      <td>3</td>\n",
       "      <td>1</td>\n",
       "      <td>...</td>\n",
       "      <td>0</td>\n",
       "      <td>0</td>\n",
       "      <td>1</td>\n",
       "      <td>0</td>\n",
       "      <td>0</td>\n",
       "      <td>0</td>\n",
       "      <td>1</td>\n",
       "      <td>0</td>\n",
       "      <td>1</td>\n",
       "      <td>0</td>\n",
       "    </tr>\n",
       "    <tr>\n",
       "      <th>...</th>\n",
       "      <td>...</td>\n",
       "      <td>...</td>\n",
       "      <td>...</td>\n",
       "      <td>...</td>\n",
       "      <td>...</td>\n",
       "      <td>...</td>\n",
       "      <td>...</td>\n",
       "      <td>...</td>\n",
       "      <td>...</td>\n",
       "      <td>...</td>\n",
       "      <td>...</td>\n",
       "      <td>...</td>\n",
       "      <td>...</td>\n",
       "      <td>...</td>\n",
       "      <td>...</td>\n",
       "      <td>...</td>\n",
       "      <td>...</td>\n",
       "      <td>...</td>\n",
       "      <td>...</td>\n",
       "      <td>...</td>\n",
       "      <td>...</td>\n",
       "    </tr>\n",
       "    <tr>\n",
       "      <th>1465</th>\n",
       "      <td>0.758788</td>\n",
       "      <td>0.241212</td>\n",
       "      <td>No</td>\n",
       "      <td>No</td>\n",
       "      <td>36</td>\n",
       "      <td>884</td>\n",
       "      <td>23</td>\n",
       "      <td>3</td>\n",
       "      <td>4</td>\n",
       "      <td>2</td>\n",
       "      <td>...</td>\n",
       "      <td>0</td>\n",
       "      <td>0</td>\n",
       "      <td>1</td>\n",
       "      <td>0</td>\n",
       "      <td>0</td>\n",
       "      <td>0</td>\n",
       "      <td>1</td>\n",
       "      <td>0</td>\n",
       "      <td>1</td>\n",
       "      <td>0</td>\n",
       "    </tr>\n",
       "    <tr>\n",
       "      <th>1466</th>\n",
       "      <td>0.854856</td>\n",
       "      <td>0.145144</td>\n",
       "      <td>No</td>\n",
       "      <td>No</td>\n",
       "      <td>39</td>\n",
       "      <td>613</td>\n",
       "      <td>6</td>\n",
       "      <td>4</td>\n",
       "      <td>2</td>\n",
       "      <td>3</td>\n",
       "      <td>...</td>\n",
       "      <td>0</td>\n",
       "      <td>0</td>\n",
       "      <td>1</td>\n",
       "      <td>0</td>\n",
       "      <td>0</td>\n",
       "      <td>0</td>\n",
       "      <td>1</td>\n",
       "      <td>0</td>\n",
       "      <td>1</td>\n",
       "      <td>0</td>\n",
       "    </tr>\n",
       "    <tr>\n",
       "      <th>1467</th>\n",
       "      <td>0.349429</td>\n",
       "      <td>0.650571</td>\n",
       "      <td>Yes</td>\n",
       "      <td>No</td>\n",
       "      <td>27</td>\n",
       "      <td>155</td>\n",
       "      <td>4</td>\n",
       "      <td>2</td>\n",
       "      <td>4</td>\n",
       "      <td>2</td>\n",
       "      <td>...</td>\n",
       "      <td>1</td>\n",
       "      <td>0</td>\n",
       "      <td>0</td>\n",
       "      <td>0</td>\n",
       "      <td>0</td>\n",
       "      <td>0</td>\n",
       "      <td>1</td>\n",
       "      <td>0</td>\n",
       "      <td>0</td>\n",
       "      <td>1</td>\n",
       "    </tr>\n",
       "    <tr>\n",
       "      <th>1468</th>\n",
       "      <td>0.610162</td>\n",
       "      <td>0.389838</td>\n",
       "      <td>No</td>\n",
       "      <td>No</td>\n",
       "      <td>49</td>\n",
       "      <td>1023</td>\n",
       "      <td>2</td>\n",
       "      <td>4</td>\n",
       "      <td>2</td>\n",
       "      <td>2</td>\n",
       "      <td>...</td>\n",
       "      <td>0</td>\n",
       "      <td>0</td>\n",
       "      <td>1</td>\n",
       "      <td>0</td>\n",
       "      <td>0</td>\n",
       "      <td>0</td>\n",
       "      <td>1</td>\n",
       "      <td>0</td>\n",
       "      <td>1</td>\n",
       "      <td>0</td>\n",
       "    </tr>\n",
       "    <tr>\n",
       "      <th>1469</th>\n",
       "      <td>0.853616</td>\n",
       "      <td>0.146384</td>\n",
       "      <td>No</td>\n",
       "      <td>No</td>\n",
       "      <td>34</td>\n",
       "      <td>628</td>\n",
       "      <td>8</td>\n",
       "      <td>2</td>\n",
       "      <td>4</td>\n",
       "      <td>2</td>\n",
       "      <td>...</td>\n",
       "      <td>0</td>\n",
       "      <td>0</td>\n",
       "      <td>1</td>\n",
       "      <td>0</td>\n",
       "      <td>0</td>\n",
       "      <td>0</td>\n",
       "      <td>1</td>\n",
       "      <td>0</td>\n",
       "      <td>1</td>\n",
       "      <td>0</td>\n",
       "    </tr>\n",
       "  </tbody>\n",
       "</table>\n",
       "<p>1470 rows × 32 columns</p>\n",
       "</div>"
      ],
      "text/plain": [
       "      proba_No  proba_Yes Predict Atrrition Label Real Attrition Label  Age  \\\n",
       "0     0.214148   0.785852                     Yes                  Yes   41   \n",
       "1     0.631011   0.368989                      No                   No   49   \n",
       "2     0.294597   0.705403                     Yes                  Yes   37   \n",
       "3     0.529545   0.470455                      No                   No   33   \n",
       "4     0.578342   0.421658                      No                   No   27   \n",
       "...        ...        ...                     ...                  ...  ...   \n",
       "1465  0.758788   0.241212                      No                   No   36   \n",
       "1466  0.854856   0.145144                      No                   No   39   \n",
       "1467  0.349429   0.650571                     Yes                   No   27   \n",
       "1468  0.610162   0.389838                      No                   No   49   \n",
       "1469  0.853616   0.146384                      No                   No   34   \n",
       "\n",
       "      DailyRate  DistanceFromHome  EnvironmentSatisfaction  JobInvolvement  \\\n",
       "0          1102                 1                        2               3   \n",
       "1           279                 8                        3               2   \n",
       "2          1373                 2                        4               2   \n",
       "3          1392                 3                        4               3   \n",
       "4           591                 2                        1               3   \n",
       "...         ...               ...                      ...             ...   \n",
       "1465        884                23                        3               4   \n",
       "1466        613                 6                        4               2   \n",
       "1467        155                 4                        2               4   \n",
       "1468       1023                 2                        4               2   \n",
       "1469        628                 8                        2               4   \n",
       "\n",
       "      JobLevel  ...  EducationField_Life Sciences  EducationField_Marketing  \\\n",
       "0            2  ...                             1                         0   \n",
       "1            2  ...                             1                         0   \n",
       "2            1  ...                             0                         0   \n",
       "3            1  ...                             1                         0   \n",
       "4            1  ...                             0                         0   \n",
       "...        ...  ...                           ...                       ...   \n",
       "1465         2  ...                             0                         0   \n",
       "1466         3  ...                             0                         0   \n",
       "1467         2  ...                             1                         0   \n",
       "1468         2  ...                             0                         0   \n",
       "1469         2  ...                             0                         0   \n",
       "\n",
       "      EducationField_Medical  EducationField_Other  \\\n",
       "0                          0                     0   \n",
       "1                          0                     0   \n",
       "2                          0                     1   \n",
       "3                          0                     0   \n",
       "4                          1                     0   \n",
       "...                      ...                   ...   \n",
       "1465                       1                     0   \n",
       "1466                       1                     0   \n",
       "1467                       0                     0   \n",
       "1468                       1                     0   \n",
       "1469                       1                     0   \n",
       "\n",
       "      EducationField_Technical Degree  MaritalStatus_Divorced  \\\n",
       "0                                   0                       0   \n",
       "1                                   0                       0   \n",
       "2                                   0                       0   \n",
       "3                                   0                       0   \n",
       "4                                   0                       0   \n",
       "...                               ...                     ...   \n",
       "1465                                0                       0   \n",
       "1466                                0                       0   \n",
       "1467                                0                       0   \n",
       "1468                                0                       0   \n",
       "1469                                0                       0   \n",
       "\n",
       "      MaritalStatus_Married  MaritalStatus_Single  OverTime_No  OverTime_Yes  \n",
       "0                         0                     1            0             1  \n",
       "1                         1                     0            1             0  \n",
       "2                         0                     1            0             1  \n",
       "3                         1                     0            0             1  \n",
       "4                         1                     0            1             0  \n",
       "...                     ...                   ...          ...           ...  \n",
       "1465                      1                     0            1             0  \n",
       "1466                      1                     0            1             0  \n",
       "1467                      1                     0            0             1  \n",
       "1468                      1                     0            1             0  \n",
       "1469                      1                     0            1             0  \n",
       "\n",
       "[1470 rows x 32 columns]"
      ]
     },
     "execution_count": 27,
     "metadata": {},
     "output_type": "execute_result"
    }
   ],
   "source": [
    "employ_attrition_predict = pd.concat([pd.DataFrame(logreg.predict_proba(X)), pd.DataFrame(\n",
    "    logreg.predict(X)).rename(columns={0: \"Predict Atrrition Label\"}), y], axis=1).rename(\n",
    "    columns={0: \"proba_No\", 1: \"proba_Yes\", \"Attrition\": \"Real Attrition Label\"})\n",
    "employ_attrition_predict[\"Predict Atrrition Label\"] = employ_attrition_predict[\"Predict Atrrition Label\"].map({1: \"Yes\", 0: \"No\"})\n",
    "employ_attrition_predict[\"Real Attrition Label\"] = employ_attrition_predict[\"Real Attrition Label\"].map({1: \"Yes\", 0: \"No\"})\n",
    "\n",
    "# employ_attrition_predict.to_csv(\"employ_attrition_predict.csv\", index=False)\n",
    "\n",
    "employ_attrition_predict_with_data = pd.concat([employ_attrition_predict, X], axis=1)\n",
    "# employ_attrition_predict_with_data.to_csv(\"employ_attrition_predict_with_data.csv\", index=False)\n",
    "\n",
    "employ_attrition_predict_with_data"
   ]
  },
  {
   "cell_type": "markdown",
   "id": "5004c529",
   "metadata": {},
   "source": [
    "# 4. Random Forest"
   ]
  },
  {
   "cell_type": "markdown",
   "id": "91529a9e",
   "metadata": {},
   "source": [
    "## 4.1 Model Training"
   ]
  },
  {
   "cell_type": "code",
   "execution_count": 28,
   "id": "3c9f9499",
   "metadata": {},
   "outputs": [
    {
     "data": {
      "text/plain": [
       "RandomForestClassifier(max_depth=3, n_estimators=50, random_state=0)"
      ]
     },
     "execution_count": 28,
     "metadata": {},
     "output_type": "execute_result"
    }
   ],
   "source": [
    "from sklearn.ensemble import RandomForestClassifier\n",
    "\n",
    "# instantiate the classifier \n",
    "\n",
    "rfc = RandomForestClassifier(n_estimators=50, random_state=0, max_depth=3)\n",
    "\n",
    "# fit the model\n",
    "\n",
    "rfc.fit(X_train, y_train)"
   ]
  },
  {
   "cell_type": "code",
   "execution_count": 29,
   "id": "3fe7b50d",
   "metadata": {},
   "outputs": [
    {
     "name": "stdout",
     "output_type": "stream",
     "text": [
      "Model training accuracy score with Random Forest : 1.0000\n",
      "Model testing accuracy score with Random Forest : 0.7789\n"
     ]
    }
   ],
   "source": [
    "# Predict the Training and Testing Dataset results\n",
    "\n",
    "y_train = rfc.predict(X_train)\n",
    "y_pred = rfc.predict(X_test)\n",
    "\n",
    "# Check accuracy score \n",
    "\n",
    "from sklearn.metrics import accuracy_score\n",
    "\n",
    "print('Model training accuracy score with Random Forest : {0:0.4f}'. format(accuracy_score(y_train, y_train)))\n",
    "print('Model testing accuracy score with Random Forest : {0:0.4f}'. format(accuracy_score(y_test, y_pred)))"
   ]
  },
  {
   "cell_type": "markdown",
   "id": "e0fc93e7",
   "metadata": {},
   "source": [
    "## 4.2 Random Forest Model Evaluation"
   ]
  },
  {
   "cell_type": "code",
   "execution_count": 30,
   "id": "7fe527d4",
   "metadata": {},
   "outputs": [
    {
     "data": {
      "image/png": "[encoded data removed]",
      "text/plain": [
       "<Figure size 432x288 with 2 Axes>"
      ]
     },
     "metadata": {
      "needs_background": "light"
     },
     "output_type": "display_data"
    }
   ],
   "source": [
    "## Print the Confusion Matrix\n",
    "\n",
    "from sklearn.metrics import plot_confusion_matrix\n",
    "import matplotlib.pyplot as plt\n",
    "\n",
    "plot_confusion_matrix(rfc, X_test, y_test) \n",
    "plt.title('Random Forest Confusion Matrix (ROS)')\n",
    "plt.show()\n",
    "# plt.savefig('Random Forest Confusion Matrix.png (ROS).png')"
   ]
  },
  {
   "cell_type": "code",
   "execution_count": 31,
   "id": "ab32dfb3",
   "metadata": {},
   "outputs": [],
   "source": [
    "TP, TN, FP, FN = 33, 196, 49, 16"
   ]
  },
  {
   "cell_type": "code",
   "execution_count": 32,
   "id": "fd2e22ac",
   "metadata": {},
   "outputs": [
    {
     "name": "stdout",
     "output_type": "stream",
     "text": [
      "Classification accuracy : 0.7789\n"
     ]
    }
   ],
   "source": [
    "# print classification accuracy\n",
    "\n",
    "classification_accuracy = (TP + TN) / float(TP + TN + FP + FN)\n",
    "\n",
    "print('Classification accuracy : {0:0.4f}'.format(classification_accuracy))"
   ]
  },
  {
   "cell_type": "code",
   "execution_count": 33,
   "id": "de06fa06",
   "metadata": {},
   "outputs": [
    {
     "name": "stdout",
     "output_type": "stream",
     "text": [
      "Precision : 0.4024\n"
     ]
    }
   ],
   "source": [
    "# print precision score\n",
    "\n",
    "precision = TP / float(TP + FP)\n",
    "\n",
    "print('Precision : {0:0.4f}'.format(precision))"
   ]
  },
  {
   "cell_type": "code",
   "execution_count": 34,
   "id": "16e89f38",
   "metadata": {},
   "outputs": [
    {
     "name": "stdout",
     "output_type": "stream",
     "text": [
      "Recall or Sensitivity : 0.6735\n"
     ]
    }
   ],
   "source": [
    "# print recall score\n",
    "\n",
    "recall = TP / float(TP + FN)\n",
    "\n",
    "print('Recall or Sensitivity : {0:0.4f}'.format(recall))"
   ]
  },
  {
   "cell_type": "code",
   "execution_count": 35,
   "id": "d9d7165f",
   "metadata": {},
   "outputs": [
    {
     "name": "stdout",
     "output_type": "stream",
     "text": [
      "Specificity : 0.8000\n"
     ]
    }
   ],
   "source": [
    "# print specificity score\n",
    "\n",
    "specificity = TN / float(TN + FP)\n",
    "\n",
    "print('Specificity : {0:0.4f}'.format(specificity))"
   ]
  },
  {
   "cell_type": "code",
   "execution_count": 36,
   "id": "8023a6f2",
   "metadata": {},
   "outputs": [
    {
     "name": "stdout",
     "output_type": "stream",
     "text": [
      "F1-score : 0.5038\n"
     ]
    }
   ],
   "source": [
    "# print f1-score\n",
    "\n",
    "f1_score = 2 * (precision * recall / float(precision + recall))\n",
    "\n",
    "print('F1-score : {0:0.4f}'.format(f1_score))"
   ]
  },
  {
   "cell_type": "code",
   "execution_count": 37,
   "id": "9d2d9f6d",
   "metadata": {},
   "outputs": [
    {
     "data": {
      "image/png": "[encoded data removed]",
      "text/plain": [
       "<Figure size 432x288 with 1 Axes>"
      ]
     },
     "metadata": {
      "needs_background": "light"
     },
     "output_type": "display_data"
    },
    {
     "name": "stdout",
     "output_type": "stream",
     "text": [
      "ROC AUC : 0.8172\n"
     ]
    }
   ],
   "source": [
    "# plot ROC Curve\n",
    "\n",
    "from sklearn.metrics import roc_curve\n",
    "\n",
    "y_pred1 = rfc.predict_proba(X_test)[:, 1]\n",
    "fpr, tpr, thresholds = roc_curve(y_test, y_pred1)\n",
    "\n",
    "plt.figure(figsize=(6,4))\n",
    "plt.plot(fpr, tpr, linewidth=2)\n",
    "plt.plot([0,1], [0,1], 'k--' )\n",
    "plt.rcParams['font.size'] = 12\n",
    "plt.title('ROC curve for Employee Attrition classifier')\n",
    "plt.xlabel('False Positive Rate (1 - Specificity)')\n",
    "plt.ylabel('True Positive Rate (Sensitivity)')\n",
    "plt.show()\n",
    "\n",
    "# compute ROC AUC\n",
    "\n",
    "from sklearn.metrics import roc_auc_score\n",
    "\n",
    "ROC_AUC = roc_auc_score(y_test, y_pred1)\n",
    "print('ROC AUC : {:.4f}'.format(ROC_AUC))"
   ]
  },
  {
   "cell_type": "markdown",
   "id": "4a98a264",
   "metadata": {},
   "source": [
    "# 5. Model Comparison: Logistic Regression v.s. Random Forest"
   ]
  },
  {
   "cell_type": "code",
   "execution_count": 38,
   "id": "4cfb420f",
   "metadata": {
    "scrolled": false
   },
   "outputs": [
    {
     "data": {
      "image/png": "[encoded data removed]",
      "text/plain": [
       "<Figure size 576x432 with 1 Axes>"
      ]
     },
     "metadata": {
      "needs_background": "light"
     },
     "output_type": "display_data"
    }
   ],
   "source": [
    "## Plot ROC curves for both of Logistic Regression and Random Forest model\n",
    "\n",
    "\n",
    "from sklearn.metrics import roc_curve, roc_auc_score\n",
    "\n",
    "# Instantiate the classfiers and make a list\n",
    "classifiers = [logreg, rfc]\n",
    "\n",
    "# Define a result table as a DataFrame\n",
    "result_table = pd.DataFrame(columns=['classifiers', 'fpr','tpr','auc'])\n",
    "\n",
    "# Test the models and record the results\n",
    "iter = 0\n",
    "for cls in classifiers:\n",
    "    yproba = cls.predict_proba(X_test)[:,1]\n",
    "    \n",
    "    fpr, tpr, _ = roc_curve(y_test,  yproba)\n",
    "    auc = roc_auc_score(y_test, yproba)\n",
    "    \n",
    "    if iter == 0:\n",
    "        result_table = result_table.append({'classifiers':'LogisticRegression',\n",
    "                                        'fpr':fpr, \n",
    "                                        'tpr':tpr, \n",
    "                                        'auc':auc}, ignore_index=True)\n",
    "        iter += 1\n",
    "    else:\n",
    "        result_table = result_table.append({'classifiers':'RandomForest',\n",
    "                                        'fpr':fpr, \n",
    "                                        'tpr':tpr, \n",
    "                                        'auc':auc}, ignore_index=True)\n",
    "\n",
    "# Set name of the classifiers as index labels\n",
    "result_table.set_index('classifiers', inplace=True)\n",
    "\n",
    "fig = plt.figure(figsize=(8,6))\n",
    "\n",
    "for i in result_table.index:\n",
    "    plt.plot(result_table.loc[i]['fpr'], \n",
    "             result_table.loc[i]['tpr'], \n",
    "             label=\"{}, AUC={:.3f}\".format(i, result_table.loc[i]['auc']))\n",
    "    \n",
    "plt.plot([0,1], [0,1], color='black', linestyle='--')\n",
    "\n",
    "plt.xticks(np.arange(0.0, 1.1, step=0.1))\n",
    "plt.xlabel(\"False Positive Rate (1 - Specificity)\", fontsize=14)\n",
    "\n",
    "plt.yticks(np.arange(0.0, 1.1, step=0.1))\n",
    "plt.ylabel(\"True Positive Rate (Sensitivity)\", fontsize=14)\n",
    "\n",
    "plt.title('Employee Attrition ROC Curve Analysis', fontweight='bold', fontsize=15)\n",
    "plt.legend(prop={'size':13}, loc='lower right')\n",
    "\n",
    "plt.show()\n",
    "\n",
    "# plt.savefig(\"Employee Attrition ROC Curve Analysis.png\")"
   ]
  }
 ],
 "metadata": {
  "kernelspec": {
   "display_name": "Python 3",
   "language": "python",
   "name": "python3"
  },
  "language_info": {
   "codemirror_mode": {
    "name": "ipython",
    "version": 3
   },
   "file_extension": ".py",
   "mimetype": "text/x-python",
   "name": "python",
   "nbconvert_exporter": "python",
   "pygments_lexer": "ipython3",
   "version": "3.8.8"
  }
 },
 "nbformat": 4,
 "nbformat_minor": 5
}
